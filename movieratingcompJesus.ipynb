{
 "cells": [
  {
   "cell_type": "code",
   "execution_count": 1,
   "metadata": {},
   "outputs": [],
   "source": [
    "using Pkg\n",
    "# Pkg.add(\"DataFrames\")\n",
    "# Pkg.add(\"CSV\")\n",
    "# Pkg.add(\"BenchmarkTools\")\n",
    "using BenchmarkTools\n",
    "using DataFrames\n",
    "using CSV\n",
    "using Base.Threads"
   ]
  },
  {
   "cell_type": "code",
   "execution_count": 2,
   "metadata": {},
   "outputs": [],
   "source": [
    "# function bufferRatings(filename)\n",
    "#     rows = 250000\n",
    "#     res = DataFrame()\n",
    "#     buffer = DataFrame()\n",
    "#     movieso = DataFrame(CSV.File(\"movies.csv\"))\n",
    "#     for row in CSV.Rows(\"ratings.csv\")\n",
    "#         push!(buffer, row)\n",
    "#         println(nrow(buffer))\n",
    "#         if nrow(buffer) > rows\n",
    "#             println(\"processing chunk\")\n",
    "#             res = [res;countGenres(buffer,movieso)]\n",
    "#             buffer = DataFrame()\n",
    "#         end\n",
    "#     res = [res;countGenres(buffer,movieso)]\n",
    "#     end\n",
    "# end"
   ]
  },
  {
   "cell_type": "code",
   "execution_count": 5,
   "metadata": {},
   "outputs": [
    {
     "data": {
      "text/plain": [
       "readStuff (generic function with 1 method)"
      ]
     },
     "metadata": {},
     "output_type": "display_data"
    }
   ],
   "source": [
    "function readStuff(filename)\n",
    "    if lowercase(reverse(reverse(filename)[1:4])) == \".csv\"\n",
    "        ratings = DataFrame(CSV.File(filename,header=false))\n",
    "        ratings = rename(ratings, :Column1 => :userId, :Column2 => :movieId)\n",
    "    else\n",
    "        println(\"pasame un csv plis\")\n",
    "        return \n",
    "    end\n",
    "    return ratings\n",
    "end"
   ]
  },
  {
   "cell_type": "code",
   "execution_count": 2,
   "metadata": {},
   "outputs": [
    {
     "data": {
      "text/plain": [
       "readStuffOld (generic function with 1 method)"
      ]
     },
     "metadata": {},
     "output_type": "display_data"
    }
   ],
   "source": [
    "function readStuffOld(filename)\n",
    "    if lowercase(reverse(reverse(filename)[1:4])) == \".csv\"\n",
    "        ratings = DataFrame(CSV.File(filename))\n",
    "    else\n",
    "        println(\"pasame un csv plis\")\n",
    "        return \n",
    "    end\n",
    "    return ratings\n",
    "end"
   ]
  },
  {
   "cell_type": "code",
   "execution_count": 3,
   "metadata": {},
   "outputs": [
    {
     "data": {
      "text/plain": [
       "countGenres (generic function with 1 method)"
      ]
     },
     "metadata": {},
     "output_type": "display_data"
    }
   ],
   "source": [
    "function countGenres(ratingsIn,moviesIn)\n",
    "    ratings = select(ratingsIn,:movieId)\n",
    "    movies = select(\n",
    "                    flatten(\n",
    "                        transform!(moviesIn, :genres => ByRow(x -> ismissing(x) ? [missing] : string.(split(x, \"|\"))) => :flattened_genres)\n",
    "                        ,:flattened_genres\n",
    "                        )\n",
    "                    ,:movieId,:flattened_genres =>:genres\n",
    "                    )\n",
    "    mergedf = innerjoin(movies,ratings, on = :movieId)\n",
    "    sol = sort(combine(groupby(mergedf,:genres), nrow => :count),:genres)\n",
    "    return sol\n",
    "end"
   ]
  },
  {
   "cell_type": "code",
   "execution_count": null,
   "metadata": {},
   "outputs": [
    {
     "data": {
      "text/plain": [
       "bufferRatings (generic function with 1 method)"
      ]
     },
     "metadata": {},
     "output_type": "display_data"
    }
   ],
   "source": [
    "function bufferRatings()\n",
    "    res = [DataFrame() for _ in 1:10]\n",
    "    movieso = DataFrame(CSV.File(\"movies.csv\"))\n",
    "    @threads for i in [0,1,2,3,4,5,6,7,8,9]\n",
    "        chunkFilename = string(\"ratings\",i,\".csv\")\n",
    "        res[i+1] = countGenres(readStuff(chunkFilename),movieso)\n",
    "    end\n",
    "    finres = DataFrame()\n",
    "    for i in [1,2,3,4,5,6,7,8,9]\n",
    "        finres = [finres;res[i]]\n",
    "    end\n",
    "    finres = sort(combine(groupby(finres,[:genres]), :count => sum => :count),:genres)\n",
    "    return finres\n",
    "end"
   ]
  },
  {
   "cell_type": "code",
   "execution_count": 4,
   "metadata": {},
   "outputs": [
    {
     "name": "stdout",
     "output_type": "stream",
     "text": [
      "  6.488 s (799024 allocations: 6.38 GiB)\n"
     ]
    },
    {
     "data": {
      "text/html": [
       "<div><div style = \"float: left;\"><span>20×2 DataFrame</span></div><div style = \"clear: both;\"></div></div><div class = \"data-frame\" style = \"overflow-x: scroll;\"><table class = \"data-frame\" style = \"margin-bottom: 6px;\"><thead><tr class = \"header\"><th class = \"rowNumber\" style = \"font-weight: bold; text-align: right;\">Row</th><th style = \"text-align: left;\">genres</th><th style = \"text-align: left;\">count</th></tr><tr class = \"subheader headerLastRow\"><th class = \"rowNumber\" style = \"font-weight: bold; text-align: right;\"></th><th title = \"String\" style = \"text-align: left;\">String</th><th title = \"Int64\" style = \"text-align: left;\">Int64</th></tr></thead><tbody><tr><td class = \"rowNumber\" style = \"font-weight: bold; text-align: right;\">1</td><td style = \"text-align: left;\">(no genres listed)</td><td style = \"text-align: right;\">26627</td></tr><tr><td class = \"rowNumber\" style = \"font-weight: bold; text-align: right;\">2</td><td style = \"text-align: left;\">Action</td><td style = \"text-align: right;\">7446918</td></tr><tr><td class = \"rowNumber\" style = \"font-weight: bold; text-align: right;\">3</td><td style = \"text-align: left;\">Adventure</td><td style = \"text-align: right;\">5832424</td></tr><tr><td class = \"rowNumber\" style = \"font-weight: bold; text-align: right;\">4</td><td style = \"text-align: left;\">Animation</td><td style = \"text-align: right;\">1630987</td></tr><tr><td class = \"rowNumber\" style = \"font-weight: bold; text-align: right;\">5</td><td style = \"text-align: left;\">Children</td><td style = \"text-align: right;\">2124258</td></tr><tr><td class = \"rowNumber\" style = \"font-weight: bold; text-align: right;\">6</td><td style = \"text-align: left;\">Comedy</td><td style = \"text-align: right;\">8926230</td></tr><tr><td class = \"rowNumber\" style = \"font-weight: bold; text-align: right;\">7</td><td style = \"text-align: left;\">Crime</td><td style = \"text-align: right;\">4190259</td></tr><tr><td class = \"rowNumber\" style = \"font-weight: bold; text-align: right;\">8</td><td style = \"text-align: left;\">Documentary</td><td style = \"text-align: right;\">322449</td></tr><tr><td class = \"rowNumber\" style = \"font-weight: bold; text-align: right;\">9</td><td style = \"text-align: left;\">Drama</td><td style = \"text-align: right;\">10962833</td></tr><tr><td class = \"rowNumber\" style = \"font-weight: bold; text-align: right;\">10</td><td style = \"text-align: left;\">Fantasy</td><td style = \"text-align: right;\">2831585</td></tr><tr><td class = \"rowNumber\" style = \"font-weight: bold; text-align: right;\">11</td><td style = \"text-align: left;\">Film-Noir</td><td style = \"text-align: right;\">247227</td></tr><tr><td class = \"rowNumber\" style = \"font-weight: bold; text-align: right;\">12</td><td style = \"text-align: left;\">Horror</td><td style = \"text-align: right;\">1892183</td></tr><tr><td class = \"rowNumber\" style = \"font-weight: bold; text-align: right;\">13</td><td style = \"text-align: left;\">IMAX</td><td style = \"text-align: right;\">1063279</td></tr><tr><td class = \"rowNumber\" style = \"font-weight: bold; text-align: right;\">14</td><td style = \"text-align: left;\">Musical</td><td style = \"text-align: right;\">964252</td></tr><tr><td class = \"rowNumber\" style = \"font-weight: bold; text-align: right;\">15</td><td style = \"text-align: left;\">Mystery</td><td style = \"text-align: right;\">2010995</td></tr><tr><td class = \"rowNumber\" style = \"font-weight: bold; text-align: right;\">16</td><td style = \"text-align: left;\">Romance</td><td style = \"text-align: right;\">4497291</td></tr><tr><td class = \"rowNumber\" style = \"font-weight: bold; text-align: right;\">17</td><td style = \"text-align: left;\">Sci-Fi</td><td style = \"text-align: right;\">4325740</td></tr><tr><td class = \"rowNumber\" style = \"font-weight: bold; text-align: right;\">18</td><td style = \"text-align: left;\">Thriller</td><td style = \"text-align: right;\">6763272</td></tr><tr><td class = \"rowNumber\" style = \"font-weight: bold; text-align: right;\">19</td><td style = \"text-align: left;\">War</td><td style = \"text-align: right;\">1267346</td></tr><tr><td class = \"rowNumber\" style = \"font-weight: bold; text-align: right;\">20</td><td style = \"text-align: left;\">Western</td><td style = \"text-align: right;\">483731</td></tr></tbody></table></div>"
      ],
      "text/latex": [
       "\\begin{tabular}{r|cc}\n",
       "\t& genres & count\\\\\n",
       "\t\\hline\n",
       "\t& String & Int64\\\\\n",
       "\t\\hline\n",
       "\t1 & (no genres listed) & 26627 \\\\\n",
       "\t2 & Action & 7446918 \\\\\n",
       "\t3 & Adventure & 5832424 \\\\\n",
       "\t4 & Animation & 1630987 \\\\\n",
       "\t5 & Children & 2124258 \\\\\n",
       "\t6 & Comedy & 8926230 \\\\\n",
       "\t7 & Crime & 4190259 \\\\\n",
       "\t8 & Documentary & 322449 \\\\\n",
       "\t9 & Drama & 10962833 \\\\\n",
       "\t10 & Fantasy & 2831585 \\\\\n",
       "\t11 & Film-Noir & 247227 \\\\\n",
       "\t12 & Horror & 1892183 \\\\\n",
       "\t13 & IMAX & 1063279 \\\\\n",
       "\t14 & Musical & 964252 \\\\\n",
       "\t15 & Mystery & 2010995 \\\\\n",
       "\t16 & Romance & 4497291 \\\\\n",
       "\t17 & Sci-Fi & 4325740 \\\\\n",
       "\t18 & Thriller & 6763272 \\\\\n",
       "\t19 & War & 1267346 \\\\\n",
       "\t20 & Western & 483731 \\\\\n",
       "\\end{tabular}\n"
      ],
      "text/plain": [
       "\u001b[1m20×2 DataFrame\u001b[0m\n",
       "\u001b[1m Row \u001b[0m│\u001b[1m genres             \u001b[0m\u001b[1m count    \u001b[0m\n",
       "     │\u001b[90m String             \u001b[0m\u001b[90m Int64    \u001b[0m\n",
       "─────┼──────────────────────────────\n",
       "   1 │ (no genres listed)     26627\n",
       "   2 │ Action               7446918\n",
       "   3 │ Adventure            5832424\n",
       "   4 │ Animation            1630987\n",
       "   5 │ Children             2124258\n",
       "   6 │ Comedy               8926230\n",
       "   7 │ Crime                4190259\n",
       "   8 │ Documentary           322449\n",
       "  ⋮  │         ⋮              ⋮\n",
       "  14 │ Musical               964252\n",
       "  15 │ Mystery              2010995\n",
       "  16 │ Romance              4497291\n",
       "  17 │ Sci-Fi               4325740\n",
       "  18 │ Thriller             6763272\n",
       "  19 │ War                  1267346\n",
       "  20 │ Western               483731\n",
       "\u001b[36m                      5 rows omitted\u001b[0m"
      ]
     },
     "metadata": {},
     "output_type": "display_data"
    }
   ],
   "source": [
    "@btime res = countGenres(readStuffOld(\"ratings.csv\"),readStuffOld(\"movies.csv\"))"
   ]
  },
  {
   "cell_type": "code",
   "execution_count": null,
   "metadata": {},
   "outputs": [
    {
     "name": "stdout",
     "output_type": "stream",
     "text": [
      "  6.831 s (6861713 allocations: 7.56 GiB)\n"
     ]
    },
    {
     "data": {
      "text/html": [
       "<div><div style = \"float: left;\"><span>20×2 DataFrame</span></div><div style = \"clear: both;\"></div></div><div class = \"data-frame\" style = \"overflow-x: scroll;\"><table class = \"data-frame\" style = \"margin-bottom: 6px;\"><thead><tr class = \"header\"><th class = \"rowNumber\" style = \"font-weight: bold; text-align: right;\">Row</th><th style = \"text-align: left;\">genres</th><th style = \"text-align: left;\">count</th></tr><tr class = \"subheader headerLastRow\"><th class = \"rowNumber\" style = \"font-weight: bold; text-align: right;\"></th><th title = \"String\" style = \"text-align: left;\">String</th><th title = \"Int64\" style = \"text-align: left;\">Int64</th></tr></thead><tbody><tr><td class = \"rowNumber\" style = \"font-weight: bold; text-align: right;\">1</td><td style = \"text-align: left;\">(no genres listed)</td><td style = \"text-align: right;\">21606</td></tr><tr><td class = \"rowNumber\" style = \"font-weight: bold; text-align: right;\">2</td><td style = \"text-align: left;\">Action</td><td style = \"text-align: right;\">5954382</td></tr><tr><td class = \"rowNumber\" style = \"font-weight: bold; text-align: right;\">3</td><td style = \"text-align: left;\">Adventure</td><td style = \"text-align: right;\">4660324</td></tr><tr><td class = \"rowNumber\" style = \"font-weight: bold; text-align: right;\">4</td><td style = \"text-align: left;\">Animation</td><td style = \"text-align: right;\">1304480</td></tr><tr><td class = \"rowNumber\" style = \"font-weight: bold; text-align: right;\">5</td><td style = \"text-align: left;\">Children</td><td style = \"text-align: right;\">1697255</td></tr><tr><td class = \"rowNumber\" style = \"font-weight: bold; text-align: right;\">6</td><td style = \"text-align: left;\">Comedy</td><td style = \"text-align: right;\">7140669</td></tr><tr><td class = \"rowNumber\" style = \"font-weight: bold; text-align: right;\">7</td><td style = \"text-align: left;\">Crime</td><td style = \"text-align: right;\">3351576</td></tr><tr><td class = \"rowNumber\" style = \"font-weight: bold; text-align: right;\">8</td><td style = \"text-align: left;\">Documentary</td><td style = \"text-align: right;\">260968</td></tr><tr><td class = \"rowNumber\" style = \"font-weight: bold; text-align: right;\">9</td><td style = \"text-align: left;\">Drama</td><td style = \"text-align: right;\">8768664</td></tr><tr><td class = \"rowNumber\" style = \"font-weight: bold; text-align: right;\">10</td><td style = \"text-align: left;\">Fantasy</td><td style = \"text-align: right;\">2264272</td></tr><tr><td class = \"rowNumber\" style = \"font-weight: bold; text-align: right;\">11</td><td style = \"text-align: left;\">Film-Noir</td><td style = \"text-align: right;\">198100</td></tr><tr><td class = \"rowNumber\" style = \"font-weight: bold; text-align: right;\">12</td><td style = \"text-align: left;\">Horror</td><td style = \"text-align: right;\">1517254</td></tr><tr><td class = \"rowNumber\" style = \"font-weight: bold; text-align: right;\">13</td><td style = \"text-align: left;\">IMAX</td><td style = \"text-align: right;\">849641</td></tr><tr><td class = \"rowNumber\" style = \"font-weight: bold; text-align: right;\">14</td><td style = \"text-align: left;\">Musical</td><td style = \"text-align: right;\">771508</td></tr><tr><td class = \"rowNumber\" style = \"font-weight: bold; text-align: right;\">15</td><td style = \"text-align: left;\">Mystery</td><td style = \"text-align: right;\">1609748</td></tr><tr><td class = \"rowNumber\" style = \"font-weight: bold; text-align: right;\">16</td><td style = \"text-align: left;\">Romance</td><td style = \"text-align: right;\">3594503</td></tr><tr><td class = \"rowNumber\" style = \"font-weight: bold; text-align: right;\">17</td><td style = \"text-align: left;\">Sci-Fi</td><td style = \"text-align: right;\">3458145</td></tr><tr><td class = \"rowNumber\" style = \"font-weight: bold; text-align: right;\">18</td><td style = \"text-align: left;\">Thriller</td><td style = \"text-align: right;\">5411764</td></tr><tr><td class = \"rowNumber\" style = \"font-weight: bold; text-align: right;\">19</td><td style = \"text-align: left;\">War</td><td style = \"text-align: right;\">1011744</td></tr><tr><td class = \"rowNumber\" style = \"font-weight: bold; text-align: right;\">20</td><td style = \"text-align: left;\">Western</td><td style = \"text-align: right;\">386173</td></tr></tbody></table></div>"
      ],
      "text/latex": [
       "\\begin{tabular}{r|cc}\n",
       "\t& genres & count\\\\\n",
       "\t\\hline\n",
       "\t& String & Int64\\\\\n",
       "\t\\hline\n",
       "\t1 & (no genres listed) & 21606 \\\\\n",
       "\t2 & Action & 5954382 \\\\\n",
       "\t3 & Adventure & 4660324 \\\\\n",
       "\t4 & Animation & 1304480 \\\\\n",
       "\t5 & Children & 1697255 \\\\\n",
       "\t6 & Comedy & 7140669 \\\\\n",
       "\t7 & Crime & 3351576 \\\\\n",
       "\t8 & Documentary & 260968 \\\\\n",
       "\t9 & Drama & 8768664 \\\\\n",
       "\t10 & Fantasy & 2264272 \\\\\n",
       "\t11 & Film-Noir & 198100 \\\\\n",
       "\t12 & Horror & 1517254 \\\\\n",
       "\t13 & IMAX & 849641 \\\\\n",
       "\t14 & Musical & 771508 \\\\\n",
       "\t15 & Mystery & 1609748 \\\\\n",
       "\t16 & Romance & 3594503 \\\\\n",
       "\t17 & Sci-Fi & 3458145 \\\\\n",
       "\t18 & Thriller & 5411764 \\\\\n",
       "\t19 & War & 1011744 \\\\\n",
       "\t20 & Western & 386173 \\\\\n",
       "\\end{tabular}\n"
      ],
      "text/plain": [
       "\u001b[1m20×2 DataFrame\u001b[0m\n",
       "\u001b[1m Row \u001b[0m│\u001b[1m genres             \u001b[0m\u001b[1m count   \u001b[0m\n",
       "     │\u001b[90m String             \u001b[0m\u001b[90m Int64   \u001b[0m\n",
       "─────┼─────────────────────────────\n",
       "   1 │ (no genres listed)    21606\n",
       "   2 │ Action              5954382\n",
       "   3 │ Adventure           4660324\n",
       "   4 │ Animation           1304480\n",
       "   5 │ Children            1697255\n",
       "   6 │ Comedy              7140669\n",
       "   7 │ Crime               3351576\n",
       "   8 │ Documentary          260968\n",
       "  ⋮  │         ⋮              ⋮\n",
       "  14 │ Musical              771508\n",
       "  15 │ Mystery             1609748\n",
       "  16 │ Romance             3594503\n",
       "  17 │ Sci-Fi              3458145\n",
       "  18 │ Thriller            5411764\n",
       "  19 │ War                 1011744\n",
       "  20 │ Western              386173\n",
       "\u001b[36m                     5 rows omitted\u001b[0m"
      ]
     },
     "metadata": {},
     "output_type": "display_data"
    }
   ],
   "source": [
    "@btime a = bufferRatings()"
   ]
  }
 ],
 "metadata": {
  "kernelspec": {
   "display_name": "Julia 1.10.5",
   "language": "julia",
   "name": "julia-1.10"
  },
  "language_info": {
   "file_extension": ".jl",
   "mimetype": "application/julia",
   "name": "julia",
   "version": "1.10.5"
  }
 },
 "nbformat": 4,
 "nbformat_minor": 2
}
