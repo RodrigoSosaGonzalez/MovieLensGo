{
 "cells": [
  {
   "cell_type": "code",
   "execution_count": 58,
   "metadata": {},
   "outputs": [],
   "source": [
    "using Pkg\n",
    "using BenchmarkTools\n",
    "using DataFrames\n",
    "using CSV\n",
    "using Base.Threads\n",
    "using Parquet"
   ]
  },
  {
   "cell_type": "code",
   "execution_count": 66,
   "metadata": {},
   "outputs": [
    {
     "data": {
      "text/plain": [
       "readStuff (generic function with 1 method)"
      ]
     },
     "metadata": {},
     "output_type": "display_data"
    }
   ],
   "source": [
    "function readStuff(filename)\n",
    "    if lowercase(reverse(reverse(filename)[1:4])) == \".csv\"\n",
    "        ratings = DataFrame(CSV.File(filename,header=false))\n",
    "        ratings = rename(ratings, :Column1 => :userId, :Column2 => :movieId,:Column3 => :rating)\n",
    "    elseif lowercase(reverse(reverse(filename)[1:8])) == \".parquet\"\n",
    "        ratings = DataFrame(Parquet.read_parquet(filename))\n",
    "    else\n",
    "        println(\"pasame un csv plis\")\n",
    "        return \n",
    "    end\n",
    "    return ratings\n",
    "end"
   ]
  },
  {
   "cell_type": "code",
   "execution_count": 67,
   "metadata": {},
   "outputs": [
    {
     "data": {
      "text/plain": [
       "readStuffOld (generic function with 1 method)"
      ]
     },
     "metadata": {},
     "output_type": "display_data"
    }
   ],
   "source": [
    "function readStuffOld(filename)\n",
    "    if lowercase(reverse(reverse(filename)[1:4])) == \".csv\"\n",
    "        ratings = DataFrame(CSV.File(filename))\n",
    "    elseif lowercase(reverse(reverse(filename)[1:8])) == \".parquet\"\n",
    "        ratings = DataFrame(Parquet.read_parquet(filename))\n",
    "    else\n",
    "        println(\"pasame un csv o parquet plis\")\n",
    "        return \n",
    "    end\n",
    "    return ratings\n",
    "end"
   ]
  },
  {
   "cell_type": "code",
   "execution_count": 53,
   "metadata": {},
   "outputs": [
    {
     "data": {
      "text/plain": [
       "countGenres (generic function with 1 method)"
      ]
     },
     "metadata": {},
     "output_type": "display_data"
    }
   ],
   "source": [
    "function countGenres(ratingsIn,moviesIn)\n",
    "    ratings = select(ratingsIn,:movieId,:rating)\n",
    "    movies = transform!(moviesIn, :genres => ByRow(x -> ismissing(x) ? [missing] : string.(split(x, \"|\"))) => :flattened_genres)\n",
    "    movies = flatten(movies,:flattened_genres)\n",
    "    movies = select(movies,:movieId,:flattened_genres =>:genres)\n",
    "    movies = innerjoin(movies,ratings, on = :movieId)\n",
    "    movies = combine(groupby(movies,:genres), nrow => :count,:rating => mean => :rating)\n",
    "    movies = sort(movies,:genres)\n",
    "    return movies\n",
    "end"
   ]
  },
  {
   "cell_type": "code",
   "execution_count": 54,
   "metadata": {},
   "outputs": [
    {
     "data": {
      "text/plain": [
       "chunkPostProcessing (generic function with 1 method)"
      ]
     },
     "metadata": {},
     "output_type": "display_data"
    }
   ],
   "source": [
    "function  chunkPostProcessing(finres)\n",
    "    finres = select(finres,:genres,:count,[:count,:rating] => ((cnt,rtng) -> cnt.*rtng) => :unweighted_mean)\n",
    "    finres = sort(combine(groupby(finres,[:genres]), :count => sum => :count, :unweighted_mean => sum => :unweighted_mean),:genres)\n",
    "    finres = select(finres,:genres,:count,[:count,:unweighted_mean]=>((cnt,umn) -> umn./cnt)=> :rating)\n",
    "    return finres\n",
    "end"
   ]
  },
  {
   "cell_type": "code",
   "execution_count": 80,
   "metadata": {},
   "outputs": [
    {
     "data": {
      "text/plain": [
       "bufferRatings (generic function with 2 methods)"
      ]
     },
     "metadata": {},
     "output_type": "display_data"
    }
   ],
   "source": [
    "function bufferRatings(numberOfChunks,start_w_zero,format)\n",
    "    res = [DataFrame() for _ in 1:10]\n",
    "    movieso = DataFrame(CSV.File(\"movies.csv\"))\n",
    "    if start_w_zero == true\n",
    "        eff_range = range(0, step=1, length=numberOfChunks)\n",
    "        offset = 1\n",
    "    else\n",
    "        eff_range = range(1, step=1, length=numberOfChunks)\n",
    "        offset = 0\n",
    "    end\n",
    "    \n",
    "    @threads for i in eff_range\n",
    "        if format == \".parquet\"\n",
    "            filenameCounter = \"_\"*lpad(i, 2, '0')\n",
    "        else\n",
    "            filenameCounter = i\n",
    "        end\n",
    "        chunkFilename = string(\"ratings\",filenameCounter,format)\n",
    "        res[i+offset] = countGenres(readStuff(chunkFilename),movieso)\n",
    "    end\n",
    "    \n",
    "    finres = DataFrame()\n",
    "    for i in eff_range\n",
    "        finres = [finres;res[i+offset]]\n",
    "    end\n",
    "\n",
    "    return chunkPostProcessing(finres)\n",
    "end"
   ]
  },
  {
   "cell_type": "code",
   "execution_count": 69,
   "metadata": {},
   "outputs": [
    {
     "name": "stdout",
     "output_type": "stream",
     "text": [
      "  6.690 s (6863927 allocations: 8.64 GiB)\n"
     ]
    },
    {
     "data": {
      "text/html": [
       "<div><div style = \"float: left;\"><span>20×3 DataFrame</span></div><div style = \"clear: both;\"></div></div><div class = \"data-frame\" style = \"overflow-x: scroll;\"><table class = \"data-frame\" style = \"margin-bottom: 6px;\"><thead><tr class = \"header\"><th class = \"rowNumber\" style = \"font-weight: bold; text-align: right;\">Row</th><th style = \"text-align: left;\">genres</th><th style = \"text-align: left;\">count</th><th style = \"text-align: left;\">rating</th></tr><tr class = \"subheader headerLastRow\"><th class = \"rowNumber\" style = \"font-weight: bold; text-align: right;\"></th><th title = \"String\" style = \"text-align: left;\">String</th><th title = \"Int64\" style = \"text-align: left;\">Int64</th><th title = \"Float64\" style = \"text-align: left;\">Float64</th></tr></thead><tbody><tr><td class = \"rowNumber\" style = \"font-weight: bold; text-align: right;\">1</td><td style = \"text-align: left;\">(no genres listed)</td><td style = \"text-align: right;\">26627</td><td style = \"text-align: right;\">3.32638</td></tr><tr><td class = \"rowNumber\" style = \"font-weight: bold; text-align: right;\">2</td><td style = \"text-align: left;\">Action</td><td style = \"text-align: right;\">7446918</td><td style = \"text-align: right;\">3.46659</td></tr><tr><td class = \"rowNumber\" style = \"font-weight: bold; text-align: right;\">3</td><td style = \"text-align: left;\">Adventure</td><td style = \"text-align: right;\">5832424</td><td style = \"text-align: right;\">3.51744</td></tr><tr><td class = \"rowNumber\" style = \"font-weight: bold; text-align: right;\">4</td><td style = \"text-align: left;\">Animation</td><td style = \"text-align: right;\">1630987</td><td style = \"text-align: right;\">3.61495</td></tr><tr><td class = \"rowNumber\" style = \"font-weight: bold; text-align: right;\">5</td><td style = \"text-align: left;\">Children</td><td style = \"text-align: right;\">2124258</td><td style = \"text-align: right;\">3.43251</td></tr><tr><td class = \"rowNumber\" style = \"font-weight: bold; text-align: right;\">6</td><td style = \"text-align: left;\">Comedy</td><td style = \"text-align: right;\">8926230</td><td style = \"text-align: right;\">3.42399</td></tr><tr><td class = \"rowNumber\" style = \"font-weight: bold; text-align: right;\">7</td><td style = \"text-align: left;\">Crime</td><td style = \"text-align: right;\">4190259</td><td style = \"text-align: right;\">3.68504</td></tr><tr><td class = \"rowNumber\" style = \"font-weight: bold; text-align: right;\">8</td><td style = \"text-align: left;\">Documentary</td><td style = \"text-align: right;\">322449</td><td style = \"text-align: right;\">3.70528</td></tr><tr><td class = \"rowNumber\" style = \"font-weight: bold; text-align: right;\">9</td><td style = \"text-align: left;\">Drama</td><td style = \"text-align: right;\">10962833</td><td style = \"text-align: right;\">3.67718</td></tr><tr><td class = \"rowNumber\" style = \"font-weight: bold; text-align: right;\">10</td><td style = \"text-align: left;\">Fantasy</td><td style = \"text-align: right;\">2831585</td><td style = \"text-align: right;\">3.51159</td></tr><tr><td class = \"rowNumber\" style = \"font-weight: bold; text-align: right;\">11</td><td style = \"text-align: left;\">Film-Noir</td><td style = \"text-align: right;\">247227</td><td style = \"text-align: right;\">3.92573</td></tr><tr><td class = \"rowNumber\" style = \"font-weight: bold; text-align: right;\">12</td><td style = \"text-align: left;\">Horror</td><td style = \"text-align: right;\">1892183</td><td style = \"text-align: right;\">3.29356</td></tr><tr><td class = \"rowNumber\" style = \"font-weight: bold; text-align: right;\">13</td><td style = \"text-align: left;\">IMAX</td><td style = \"text-align: right;\">1063279</td><td style = \"text-align: right;\">3.60371</td></tr><tr><td class = \"rowNumber\" style = \"font-weight: bold; text-align: right;\">14</td><td style = \"text-align: left;\">Musical</td><td style = \"text-align: right;\">964252</td><td style = \"text-align: right;\">3.55472</td></tr><tr><td class = \"rowNumber\" style = \"font-weight: bold; text-align: right;\">15</td><td style = \"text-align: left;\">Mystery</td><td style = \"text-align: right;\">2010995</td><td style = \"text-align: right;\">3.67017</td></tr><tr><td class = \"rowNumber\" style = \"font-weight: bold; text-align: right;\">16</td><td style = \"text-align: left;\">Romance</td><td style = \"text-align: right;\">4497291</td><td style = \"text-align: right;\">3.54271</td></tr><tr><td class = \"rowNumber\" style = \"font-weight: bold; text-align: right;\">17</td><td style = \"text-align: left;\">Sci-Fi</td><td style = \"text-align: right;\">4325740</td><td style = \"text-align: right;\">3.47814</td></tr><tr><td class = \"rowNumber\" style = \"font-weight: bold; text-align: right;\">18</td><td style = \"text-align: left;\">Thriller</td><td style = \"text-align: right;\">6763272</td><td style = \"text-align: right;\">3.52296</td></tr><tr><td class = \"rowNumber\" style = \"font-weight: bold; text-align: right;\">19</td><td style = \"text-align: left;\">War</td><td style = \"text-align: right;\">1267346</td><td style = \"text-align: right;\">3.79147</td></tr><tr><td class = \"rowNumber\" style = \"font-weight: bold; text-align: right;\">20</td><td style = \"text-align: left;\">Western</td><td style = \"text-align: right;\">483731</td><td style = \"text-align: right;\">3.58576</td></tr></tbody></table></div>"
      ],
      "text/latex": [
       "\\begin{tabular}{r|ccc}\n",
       "\t& genres & count & rating\\\\\n",
       "\t\\hline\n",
       "\t& String & Int64 & Float64\\\\\n",
       "\t\\hline\n",
       "\t1 & (no genres listed) & 26627 & 3.32638 \\\\\n",
       "\t2 & Action & 7446918 & 3.46659 \\\\\n",
       "\t3 & Adventure & 5832424 & 3.51744 \\\\\n",
       "\t4 & Animation & 1630987 & 3.61495 \\\\\n",
       "\t5 & Children & 2124258 & 3.43251 \\\\\n",
       "\t6 & Comedy & 8926230 & 3.42399 \\\\\n",
       "\t7 & Crime & 4190259 & 3.68504 \\\\\n",
       "\t8 & Documentary & 322449 & 3.70528 \\\\\n",
       "\t9 & Drama & 10962833 & 3.67718 \\\\\n",
       "\t10 & Fantasy & 2831585 & 3.51159 \\\\\n",
       "\t11 & Film-Noir & 247227 & 3.92573 \\\\\n",
       "\t12 & Horror & 1892183 & 3.29356 \\\\\n",
       "\t13 & IMAX & 1063279 & 3.60371 \\\\\n",
       "\t14 & Musical & 964252 & 3.55472 \\\\\n",
       "\t15 & Mystery & 2010995 & 3.67017 \\\\\n",
       "\t16 & Romance & 4497291 & 3.54271 \\\\\n",
       "\t17 & Sci-Fi & 4325740 & 3.47814 \\\\\n",
       "\t18 & Thriller & 6763272 & 3.52296 \\\\\n",
       "\t19 & War & 1267346 & 3.79147 \\\\\n",
       "\t20 & Western & 483731 & 3.58576 \\\\\n",
       "\\end{tabular}\n"
      ],
      "text/plain": [
       "\u001b[1m20×3 DataFrame\u001b[0m\n",
       "\u001b[1m Row \u001b[0m│\u001b[1m genres             \u001b[0m\u001b[1m count    \u001b[0m\u001b[1m rating  \u001b[0m\n",
       "     │\u001b[90m String             \u001b[0m\u001b[90m Int64    \u001b[0m\u001b[90m Float64 \u001b[0m\n",
       "─────┼───────────────────────────────────────\n",
       "   1 │ (no genres listed)     26627  3.32638\n",
       "   2 │ Action               7446918  3.46659\n",
       "   3 │ Adventure            5832424  3.51744\n",
       "   4 │ Animation            1630987  3.61495\n",
       "   5 │ Children             2124258  3.43251\n",
       "   6 │ Comedy               8926230  3.42399\n",
       "   7 │ Crime                4190259  3.68504\n",
       "   8 │ Documentary           322449  3.70528\n",
       "  ⋮  │         ⋮              ⋮         ⋮\n",
       "  14 │ Musical               964252  3.55472\n",
       "  15 │ Mystery              2010995  3.67017\n",
       "  16 │ Romance              4497291  3.54271\n",
       "  17 │ Sci-Fi               4325740  3.47814\n",
       "  18 │ Thriller             6763272  3.52296\n",
       "  19 │ War                  1267346  3.79147\n",
       "  20 │ Western               483731  3.58576\n",
       "\u001b[36m                               5 rows omitted\u001b[0m"
      ]
     },
     "metadata": {},
     "output_type": "display_data"
    }
   ],
   "source": [
    "@btime a = bufferRatings(10,true,\".csv\")"
   ]
  },
  {
   "cell_type": "code",
   "execution_count": 81,
   "metadata": {},
   "outputs": [
    {
     "name": "stdout",
     "output_type": "stream",
     "text": [
      "  4.249 s (6869312 allocations: 8.84 GiB)\n"
     ]
    },
    {
     "data": {
      "text/html": [
       "<div><div style = \"float: left;\"><span>20×3 DataFrame</span></div><div style = \"clear: both;\"></div></div><div class = \"data-frame\" style = \"overflow-x: scroll;\"><table class = \"data-frame\" style = \"margin-bottom: 6px;\"><thead><tr class = \"header\"><th class = \"rowNumber\" style = \"font-weight: bold; text-align: right;\">Row</th><th style = \"text-align: left;\">genres</th><th style = \"text-align: left;\">count</th><th style = \"text-align: left;\">rating</th></tr><tr class = \"subheader headerLastRow\"><th class = \"rowNumber\" style = \"font-weight: bold; text-align: right;\"></th><th title = \"String\" style = \"text-align: left;\">String</th><th title = \"Int64\" style = \"text-align: left;\">Int64</th><th title = \"Float64\" style = \"text-align: left;\">Float64</th></tr></thead><tbody><tr><td class = \"rowNumber\" style = \"font-weight: bold; text-align: right;\">1</td><td style = \"text-align: left;\">(no genres listed)</td><td style = \"text-align: right;\">26627</td><td style = \"text-align: right;\">3.32638</td></tr><tr><td class = \"rowNumber\" style = \"font-weight: bold; text-align: right;\">2</td><td style = \"text-align: left;\">Action</td><td style = \"text-align: right;\">7446918</td><td style = \"text-align: right;\">3.46659</td></tr><tr><td class = \"rowNumber\" style = \"font-weight: bold; text-align: right;\">3</td><td style = \"text-align: left;\">Adventure</td><td style = \"text-align: right;\">5832424</td><td style = \"text-align: right;\">3.51744</td></tr><tr><td class = \"rowNumber\" style = \"font-weight: bold; text-align: right;\">4</td><td style = \"text-align: left;\">Animation</td><td style = \"text-align: right;\">1630987</td><td style = \"text-align: right;\">3.61495</td></tr><tr><td class = \"rowNumber\" style = \"font-weight: bold; text-align: right;\">5</td><td style = \"text-align: left;\">Children</td><td style = \"text-align: right;\">2124258</td><td style = \"text-align: right;\">3.43251</td></tr><tr><td class = \"rowNumber\" style = \"font-weight: bold; text-align: right;\">6</td><td style = \"text-align: left;\">Comedy</td><td style = \"text-align: right;\">8926230</td><td style = \"text-align: right;\">3.42399</td></tr><tr><td class = \"rowNumber\" style = \"font-weight: bold; text-align: right;\">7</td><td style = \"text-align: left;\">Crime</td><td style = \"text-align: right;\">4190259</td><td style = \"text-align: right;\">3.68504</td></tr><tr><td class = \"rowNumber\" style = \"font-weight: bold; text-align: right;\">8</td><td style = \"text-align: left;\">Documentary</td><td style = \"text-align: right;\">322449</td><td style = \"text-align: right;\">3.70528</td></tr><tr><td class = \"rowNumber\" style = \"font-weight: bold; text-align: right;\">9</td><td style = \"text-align: left;\">Drama</td><td style = \"text-align: right;\">10962833</td><td style = \"text-align: right;\">3.67718</td></tr><tr><td class = \"rowNumber\" style = \"font-weight: bold; text-align: right;\">10</td><td style = \"text-align: left;\">Fantasy</td><td style = \"text-align: right;\">2831585</td><td style = \"text-align: right;\">3.51159</td></tr><tr><td class = \"rowNumber\" style = \"font-weight: bold; text-align: right;\">11</td><td style = \"text-align: left;\">Film-Noir</td><td style = \"text-align: right;\">247227</td><td style = \"text-align: right;\">3.92573</td></tr><tr><td class = \"rowNumber\" style = \"font-weight: bold; text-align: right;\">12</td><td style = \"text-align: left;\">Horror</td><td style = \"text-align: right;\">1892183</td><td style = \"text-align: right;\">3.29356</td></tr><tr><td class = \"rowNumber\" style = \"font-weight: bold; text-align: right;\">13</td><td style = \"text-align: left;\">IMAX</td><td style = \"text-align: right;\">1063279</td><td style = \"text-align: right;\">3.60371</td></tr><tr><td class = \"rowNumber\" style = \"font-weight: bold; text-align: right;\">14</td><td style = \"text-align: left;\">Musical</td><td style = \"text-align: right;\">964252</td><td style = \"text-align: right;\">3.55472</td></tr><tr><td class = \"rowNumber\" style = \"font-weight: bold; text-align: right;\">15</td><td style = \"text-align: left;\">Mystery</td><td style = \"text-align: right;\">2010995</td><td style = \"text-align: right;\">3.67017</td></tr><tr><td class = \"rowNumber\" style = \"font-weight: bold; text-align: right;\">16</td><td style = \"text-align: left;\">Romance</td><td style = \"text-align: right;\">4497291</td><td style = \"text-align: right;\">3.54271</td></tr><tr><td class = \"rowNumber\" style = \"font-weight: bold; text-align: right;\">17</td><td style = \"text-align: left;\">Sci-Fi</td><td style = \"text-align: right;\">4325740</td><td style = \"text-align: right;\">3.47814</td></tr><tr><td class = \"rowNumber\" style = \"font-weight: bold; text-align: right;\">18</td><td style = \"text-align: left;\">Thriller</td><td style = \"text-align: right;\">6763272</td><td style = \"text-align: right;\">3.52296</td></tr><tr><td class = \"rowNumber\" style = \"font-weight: bold; text-align: right;\">19</td><td style = \"text-align: left;\">War</td><td style = \"text-align: right;\">1267346</td><td style = \"text-align: right;\">3.79147</td></tr><tr><td class = \"rowNumber\" style = \"font-weight: bold; text-align: right;\">20</td><td style = \"text-align: left;\">Western</td><td style = \"text-align: right;\">483731</td><td style = \"text-align: right;\">3.58576</td></tr></tbody></table></div>"
      ],
      "text/latex": [
       "\\begin{tabular}{r|ccc}\n",
       "\t& genres & count & rating\\\\\n",
       "\t\\hline\n",
       "\t& String & Int64 & Float64\\\\\n",
       "\t\\hline\n",
       "\t1 & (no genres listed) & 26627 & 3.32638 \\\\\n",
       "\t2 & Action & 7446918 & 3.46659 \\\\\n",
       "\t3 & Adventure & 5832424 & 3.51744 \\\\\n",
       "\t4 & Animation & 1630987 & 3.61495 \\\\\n",
       "\t5 & Children & 2124258 & 3.43251 \\\\\n",
       "\t6 & Comedy & 8926230 & 3.42399 \\\\\n",
       "\t7 & Crime & 4190259 & 3.68504 \\\\\n",
       "\t8 & Documentary & 322449 & 3.70528 \\\\\n",
       "\t9 & Drama & 10962833 & 3.67718 \\\\\n",
       "\t10 & Fantasy & 2831585 & 3.51159 \\\\\n",
       "\t11 & Film-Noir & 247227 & 3.92573 \\\\\n",
       "\t12 & Horror & 1892183 & 3.29356 \\\\\n",
       "\t13 & IMAX & 1063279 & 3.60371 \\\\\n",
       "\t14 & Musical & 964252 & 3.55472 \\\\\n",
       "\t15 & Mystery & 2010995 & 3.67017 \\\\\n",
       "\t16 & Romance & 4497291 & 3.54271 \\\\\n",
       "\t17 & Sci-Fi & 4325740 & 3.47814 \\\\\n",
       "\t18 & Thriller & 6763272 & 3.52296 \\\\\n",
       "\t19 & War & 1267346 & 3.79147 \\\\\n",
       "\t20 & Western & 483731 & 3.58576 \\\\\n",
       "\\end{tabular}\n"
      ],
      "text/plain": [
       "\u001b[1m20×3 DataFrame\u001b[0m\n",
       "\u001b[1m Row \u001b[0m│\u001b[1m genres             \u001b[0m\u001b[1m count    \u001b[0m\u001b[1m rating  \u001b[0m\n",
       "     │\u001b[90m String             \u001b[0m\u001b[90m Int64    \u001b[0m\u001b[90m Float64 \u001b[0m\n",
       "─────┼───────────────────────────────────────\n",
       "   1 │ (no genres listed)     26627  3.32638\n",
       "   2 │ Action               7446918  3.46659\n",
       "   3 │ Adventure            5832424  3.51744\n",
       "   4 │ Animation            1630987  3.61495\n",
       "   5 │ Children             2124258  3.43251\n",
       "   6 │ Comedy               8926230  3.42399\n",
       "   7 │ Crime                4190259  3.68504\n",
       "   8 │ Documentary           322449  3.70528\n",
       "  ⋮  │         ⋮              ⋮         ⋮\n",
       "  14 │ Musical               964252  3.55472\n",
       "  15 │ Mystery              2010995  3.67017\n",
       "  16 │ Romance              4497291  3.54271\n",
       "  17 │ Sci-Fi               4325740  3.47814\n",
       "  18 │ Thriller             6763272  3.52296\n",
       "  19 │ War                  1267346  3.79147\n",
       "  20 │ Western               483731  3.58576\n",
       "\u001b[36m                               5 rows omitted\u001b[0m"
      ]
     },
     "metadata": {},
     "output_type": "display_data"
    }
   ],
   "source": [
    "@btime a = bufferRatings(10,false,\".parquet\")"
   ]
  },
  {
   "cell_type": "code",
   "execution_count": 57,
   "metadata": {},
   "outputs": [
    {
     "name": "stdout",
     "output_type": "stream",
     "text": [
      "  6.579 s (799186 allocations: 7.07 GiB)\n"
     ]
    },
    {
     "data": {
      "text/html": [
       "<div><div style = \"float: left;\"><span>20×3 DataFrame</span></div><div style = \"clear: both;\"></div></div><div class = \"data-frame\" style = \"overflow-x: scroll;\"><table class = \"data-frame\" style = \"margin-bottom: 6px;\"><thead><tr class = \"header\"><th class = \"rowNumber\" style = \"font-weight: bold; text-align: right;\">Row</th><th style = \"text-align: left;\">genres</th><th style = \"text-align: left;\">count</th><th style = \"text-align: left;\">rating</th></tr><tr class = \"subheader headerLastRow\"><th class = \"rowNumber\" style = \"font-weight: bold; text-align: right;\"></th><th title = \"String\" style = \"text-align: left;\">String</th><th title = \"Int64\" style = \"text-align: left;\">Int64</th><th title = \"Float64\" style = \"text-align: left;\">Float64</th></tr></thead><tbody><tr><td class = \"rowNumber\" style = \"font-weight: bold; text-align: right;\">1</td><td style = \"text-align: left;\">(no genres listed)</td><td style = \"text-align: right;\">26627</td><td style = \"text-align: right;\">3.32638</td></tr><tr><td class = \"rowNumber\" style = \"font-weight: bold; text-align: right;\">2</td><td style = \"text-align: left;\">Action</td><td style = \"text-align: right;\">7446918</td><td style = \"text-align: right;\">3.46659</td></tr><tr><td class = \"rowNumber\" style = \"font-weight: bold; text-align: right;\">3</td><td style = \"text-align: left;\">Adventure</td><td style = \"text-align: right;\">5832424</td><td style = \"text-align: right;\">3.51744</td></tr><tr><td class = \"rowNumber\" style = \"font-weight: bold; text-align: right;\">4</td><td style = \"text-align: left;\">Animation</td><td style = \"text-align: right;\">1630987</td><td style = \"text-align: right;\">3.61495</td></tr><tr><td class = \"rowNumber\" style = \"font-weight: bold; text-align: right;\">5</td><td style = \"text-align: left;\">Children</td><td style = \"text-align: right;\">2124258</td><td style = \"text-align: right;\">3.43251</td></tr><tr><td class = \"rowNumber\" style = \"font-weight: bold; text-align: right;\">6</td><td style = \"text-align: left;\">Comedy</td><td style = \"text-align: right;\">8926230</td><td style = \"text-align: right;\">3.42399</td></tr><tr><td class = \"rowNumber\" style = \"font-weight: bold; text-align: right;\">7</td><td style = \"text-align: left;\">Crime</td><td style = \"text-align: right;\">4190259</td><td style = \"text-align: right;\">3.68504</td></tr><tr><td class = \"rowNumber\" style = \"font-weight: bold; text-align: right;\">8</td><td style = \"text-align: left;\">Documentary</td><td style = \"text-align: right;\">322449</td><td style = \"text-align: right;\">3.70528</td></tr><tr><td class = \"rowNumber\" style = \"font-weight: bold; text-align: right;\">9</td><td style = \"text-align: left;\">Drama</td><td style = \"text-align: right;\">10962833</td><td style = \"text-align: right;\">3.67718</td></tr><tr><td class = \"rowNumber\" style = \"font-weight: bold; text-align: right;\">10</td><td style = \"text-align: left;\">Fantasy</td><td style = \"text-align: right;\">2831585</td><td style = \"text-align: right;\">3.51159</td></tr><tr><td class = \"rowNumber\" style = \"font-weight: bold; text-align: right;\">11</td><td style = \"text-align: left;\">Film-Noir</td><td style = \"text-align: right;\">247227</td><td style = \"text-align: right;\">3.92573</td></tr><tr><td class = \"rowNumber\" style = \"font-weight: bold; text-align: right;\">12</td><td style = \"text-align: left;\">Horror</td><td style = \"text-align: right;\">1892183</td><td style = \"text-align: right;\">3.29356</td></tr><tr><td class = \"rowNumber\" style = \"font-weight: bold; text-align: right;\">13</td><td style = \"text-align: left;\">IMAX</td><td style = \"text-align: right;\">1063279</td><td style = \"text-align: right;\">3.60371</td></tr><tr><td class = \"rowNumber\" style = \"font-weight: bold; text-align: right;\">14</td><td style = \"text-align: left;\">Musical</td><td style = \"text-align: right;\">964252</td><td style = \"text-align: right;\">3.55472</td></tr><tr><td class = \"rowNumber\" style = \"font-weight: bold; text-align: right;\">15</td><td style = \"text-align: left;\">Mystery</td><td style = \"text-align: right;\">2010995</td><td style = \"text-align: right;\">3.67017</td></tr><tr><td class = \"rowNumber\" style = \"font-weight: bold; text-align: right;\">16</td><td style = \"text-align: left;\">Romance</td><td style = \"text-align: right;\">4497291</td><td style = \"text-align: right;\">3.54271</td></tr><tr><td class = \"rowNumber\" style = \"font-weight: bold; text-align: right;\">17</td><td style = \"text-align: left;\">Sci-Fi</td><td style = \"text-align: right;\">4325740</td><td style = \"text-align: right;\">3.47814</td></tr><tr><td class = \"rowNumber\" style = \"font-weight: bold; text-align: right;\">18</td><td style = \"text-align: left;\">Thriller</td><td style = \"text-align: right;\">6763272</td><td style = \"text-align: right;\">3.52296</td></tr><tr><td class = \"rowNumber\" style = \"font-weight: bold; text-align: right;\">19</td><td style = \"text-align: left;\">War</td><td style = \"text-align: right;\">1267346</td><td style = \"text-align: right;\">3.79147</td></tr><tr><td class = \"rowNumber\" style = \"font-weight: bold; text-align: right;\">20</td><td style = \"text-align: left;\">Western</td><td style = \"text-align: right;\">483731</td><td style = \"text-align: right;\">3.58576</td></tr></tbody></table></div>"
      ],
      "text/latex": [
       "\\begin{tabular}{r|ccc}\n",
       "\t& genres & count & rating\\\\\n",
       "\t\\hline\n",
       "\t& String & Int64 & Float64\\\\\n",
       "\t\\hline\n",
       "\t1 & (no genres listed) & 26627 & 3.32638 \\\\\n",
       "\t2 & Action & 7446918 & 3.46659 \\\\\n",
       "\t3 & Adventure & 5832424 & 3.51744 \\\\\n",
       "\t4 & Animation & 1630987 & 3.61495 \\\\\n",
       "\t5 & Children & 2124258 & 3.43251 \\\\\n",
       "\t6 & Comedy & 8926230 & 3.42399 \\\\\n",
       "\t7 & Crime & 4190259 & 3.68504 \\\\\n",
       "\t8 & Documentary & 322449 & 3.70528 \\\\\n",
       "\t9 & Drama & 10962833 & 3.67718 \\\\\n",
       "\t10 & Fantasy & 2831585 & 3.51159 \\\\\n",
       "\t11 & Film-Noir & 247227 & 3.92573 \\\\\n",
       "\t12 & Horror & 1892183 & 3.29356 \\\\\n",
       "\t13 & IMAX & 1063279 & 3.60371 \\\\\n",
       "\t14 & Musical & 964252 & 3.55472 \\\\\n",
       "\t15 & Mystery & 2010995 & 3.67017 \\\\\n",
       "\t16 & Romance & 4497291 & 3.54271 \\\\\n",
       "\t17 & Sci-Fi & 4325740 & 3.47814 \\\\\n",
       "\t18 & Thriller & 6763272 & 3.52296 \\\\\n",
       "\t19 & War & 1267346 & 3.79147 \\\\\n",
       "\t20 & Western & 483731 & 3.58576 \\\\\n",
       "\\end{tabular}\n"
      ],
      "text/plain": [
       "\u001b[1m20×3 DataFrame\u001b[0m\n",
       "\u001b[1m Row \u001b[0m│\u001b[1m genres             \u001b[0m\u001b[1m count    \u001b[0m\u001b[1m rating  \u001b[0m\n",
       "     │\u001b[90m String             \u001b[0m\u001b[90m Int64    \u001b[0m\u001b[90m Float64 \u001b[0m\n",
       "─────┼───────────────────────────────────────\n",
       "   1 │ (no genres listed)     26627  3.32638\n",
       "   2 │ Action               7446918  3.46659\n",
       "   3 │ Adventure            5832424  3.51744\n",
       "   4 │ Animation            1630987  3.61495\n",
       "   5 │ Children             2124258  3.43251\n",
       "   6 │ Comedy               8926230  3.42399\n",
       "   7 │ Crime                4190259  3.68504\n",
       "   8 │ Documentary           322449  3.70528\n",
       "  ⋮  │         ⋮              ⋮         ⋮\n",
       "  14 │ Musical               964252  3.55472\n",
       "  15 │ Mystery              2010995  3.67017\n",
       "  16 │ Romance              4497291  3.54271\n",
       "  17 │ Sci-Fi               4325740  3.47814\n",
       "  18 │ Thriller             6763272  3.52296\n",
       "  19 │ War                  1267346  3.79147\n",
       "  20 │ Western               483731  3.58576\n",
       "\u001b[36m                               5 rows omitted\u001b[0m"
      ]
     },
     "metadata": {},
     "output_type": "display_data"
    }
   ],
   "source": [
    "@btime res = countGenres(readStuffOld(\"ratings.csv\"),readStuffOld(\"movies.csv\"))"
   ]
  },
  {
   "cell_type": "code",
   "execution_count": null,
   "metadata": {},
   "outputs": [],
   "source": [
    "# Código funcional para bufferear directamente los resultados del archivo original CSV sin necesidad de partirlo en múltiples archivos\n",
    "# Es funcional pero sumamente lento a causa de la librería CSV de julia, una mejor alternativa es parsearlo directamente\n",
    "\n",
    "#\n",
    "# function bufferRatings(filename)\n",
    "#     rows = 250000\n",
    "#     res = DataFrame()\n",
    "#     buffer = DataFrame()\n",
    "#     movieso = DataFrame(CSV.File(\"movies.csv\"))\n",
    "#     for row in CSV.Rows(\"ratings.csv\")\n",
    "#         push!(buffer, row)\n",
    "#         println(nrow(buffer))\n",
    "#         if nrow(buffer) > rows\n",
    "#             println(\"processing chunk\")\n",
    "#             res = [res;countGenres(buffer,movieso)]\n",
    "#             buffer = DataFrame()\n",
    "#         end\n",
    "#     res = [res;countGenres(buffer,movieso)]\n",
    "#     res = chunkPostProcessing(res)\n",
    "#     end\n",
    "# end"
   ]
  }
 ],
 "metadata": {
  "kernelspec": {
   "display_name": "Julia 1.10.5",
   "language": "julia",
   "name": "julia-1.10"
  },
  "language_info": {
   "file_extension": ".jl",
   "mimetype": "application/julia",
   "name": "julia",
   "version": "1.10.5"
  }
 },
 "nbformat": 4,
 "nbformat_minor": 2
}
